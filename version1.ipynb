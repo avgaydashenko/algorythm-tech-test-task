{
 "cells": [
  {
   "cell_type": "markdown",
   "metadata": {},
   "source": [
    "Let's download train dataset from here: http://benchmark.ini.rub.de/?section=gtsdb&subsection=dataset\n",
    "\n",
    "I will use opencv Cascase Classifier so we will also need to preprocess our train dataset and also find some images without traffic signs."
   ]
  },
  {
   "cell_type": "markdown",
   "metadata": {},
   "source": [
    "I changed dataset folder structure to this:\n",
    "\n",
    "Data/\n",
    "\n",
    "|-- neg/ <-- images without traffic signs\n",
    "\n",
    "|-- pos/ <-- original images with traffic signs\n",
    "\n",
    "|-- traffic_signs/ <-- folders 00-42 with signs examples\n",
    "\n",
    "|-- data/ <-- usage will be explain later\n",
    "\n",
    "|-- signs.info\n",
    "\n",
    "|-- bg.txt\n",
    "\n",
    "|-- signs.vec"
   ]
  },
  {
   "cell_type": "code",
   "execution_count": 1,
   "metadata": {
    "collapsed": true
   },
   "outputs": [],
   "source": [
    "import numpy as np\n",
    "import os"
   ]
  },
  {
   "cell_type": "code",
   "execution_count": 2,
   "metadata": {
    "collapsed": true
   },
   "outputs": [],
   "source": [
    "def num_to_filename(num):\n",
    "    return '{:05d}.ppm'.format(num)"
   ]
  },
  {
   "cell_type": "code",
   "execution_count": 35,
   "metadata": {
    "collapsed": true
   },
   "outputs": [],
   "source": [
    "gt = np.loadtxt('Data/gt.txt', dtype=bytes).astype(str)\n",
    "data = np.empty((len(gt), 6), dtype=int)\n",
    "for i, row in enumerate(gt):\n",
    "    data[i] = np.array(row.replace('.ppm', '').split(';')).astype(int)\n",
    "data[:, [3, 4]] -= data[:, [1, 2]]"
   ]
  },
  {
   "cell_type": "markdown",
   "metadata": {},
   "source": [
    "Now in first column of data stored images numbers with traffic signs. Let's put all other images in folder neg:"
   ]
  },
  {
   "cell_type": "code",
   "execution_count": 57,
   "metadata": {
    "collapsed": true
   },
   "outputs": [],
   "source": [
    "negative_images = np.setdiff1d(np.arange(900), data[:, 0])\n",
    "for img in negative_images:\n",
    "    os.rename('Data/pos/' + num_to_filename(img), 'Data/neg/' + num_to_filename(img))"
   ]
  },
  {
   "cell_type": "markdown",
   "metadata": {},
   "source": [
    "Now let's write down signs info in following format:\n",
    "\n",
    "pos/{image name} {number of signs image contains} ({x} {y} {w} {h})*"
   ]
  },
  {
   "cell_type": "code",
   "execution_count": 58,
   "metadata": {
    "collapsed": true
   },
   "outputs": [],
   "source": [
    "with open('Data/signs.info', 'w') as f:\n",
    "    prev_img = 0\n",
    "    counter = 0\n",
    "    location = \"\"\n",
    "    for img, x, y, w, h, _ in data:\n",
    "        if img != prev_img:\n",
    "            f.write('pos/{name} {num} {loc}\\n'.format(name=num_to_filename(prev_img), num=counter, loc=location))\n",
    "            prev_img = img\n",
    "            counter = 1\n",
    "            location = \" {x} {y} {w} {h}\".format(x=x, y=y, w=w, h=h)\n",
    "        else:\n",
    "            counter += 1\n",
    "            location += \" {x} {y} {w} {h}\".format(x=x, y=y, w=w, h=h)\n",
    "    f.write('pos/{name} {num} {loc}\\n'.format(name=num_to_filename(prev_img), num=counter, loc=location))"
   ]
  },
  {
   "cell_type": "markdown",
   "metadata": {},
   "source": [
    "So far we described positive part. Negative part describing is just list of filenames:"
   ]
  },
  {
   "cell_type": "code",
   "execution_count": 62,
   "metadata": {
    "collapsed": true
   },
   "outputs": [],
   "source": [
    "with open('Data/bg.txt', 'w') as f:\n",
    "    for img in negative_images:\n",
    "        f.write('neg/{name}\\n'.format(name=num_to_filename(img)))"
   ]
  },
  {
   "cell_type": "markdown",
   "metadata": {},
   "source": [
    "Now we're prepared to create samples via next command in terminal (run it inside the Data folder):\n",
    "\n",
    "$ opencv_createsamples -info signs.info -num 741 -w 43 -h 43 -vec signs.vec\n",
    "\n",
    "Where $741$ is number of lines in 'signs.info' (difference between total number of images and negative images)"
   ]
  },
  {
   "cell_type": "markdown",
   "metadata": {},
   "source": [
    "Then you're done with this you can check created samples with the following command:\n",
    "\n",
    "$ opencv_createsamples -vec signs.vec -w 43 -h 43"
   ]
  },
  {
   "cell_type": "markdown",
   "metadata": {},
   "source": [
    "Next part is to create the cascade using signs.vec and bg.txt with the following command:\n",
    "\n",
    "$ opencv_traincascade -data data -vec signs.vec -bg bg.txt -numPos 741 -numNeg 159 -numStages 10 -w 43 -h 43 -featureType LBP\n",
    "\n",
    "Where $data$ is just an empty directory for the files."
   ]
  },
  {
   "cell_type": "code",
   "execution_count": null,
   "metadata": {
    "collapsed": true
   },
   "outputs": [],
   "source": []
  }
 ],
 "metadata": {
  "kernelspec": {
   "display_name": "Python 3",
   "language": "python",
   "name": "python3"
  },
  "language_info": {
   "codemirror_mode": {
    "name": "ipython",
    "version": 3
   },
   "file_extension": ".py",
   "mimetype": "text/x-python",
   "name": "python",
   "nbconvert_exporter": "python",
   "pygments_lexer": "ipython3",
   "version": "3.6.1"
  }
 },
 "nbformat": 4,
 "nbformat_minor": 2
}
